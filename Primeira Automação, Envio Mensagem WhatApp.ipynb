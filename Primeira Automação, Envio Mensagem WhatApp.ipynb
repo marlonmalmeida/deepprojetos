{
 "cells": [
  {
   "cell_type": "code",
   "execution_count": null,
   "id": "da2c72ac",
   "metadata": {},
   "outputs": [],
   "source": [
    "!pip install pyautogui\n",
    "!pip install pyperclip\n",
    "import pyautogui\n",
    "import pyperclip"
   ]
  },
  {
   "cell_type": "code",
   "execution_count": null,
   "id": "ad035f36",
   "metadata": {},
   "outputs": [],
   "source": [
    "pyautogui.Pause = 1"
   ]
  },
  {
   "cell_type": "code",
   "execution_count": null,
   "id": "3fc0a658",
   "metadata": {},
   "outputs": [],
   "source": [
    "pyautogui.hotkey(\"ctrl\",\"t\")\n",
    "pyperclip.copy(\"https://web.whatsapp.com/\")\n",
    "pyautogui.hotkey(\"ctrl\",\"v\")\n",
    "pyautogui.press(\"enter\")"
   ]
  },
  {
   "cell_type": "code",
   "execution_count": null,
   "id": "49c8fe11",
   "metadata": {},
   "outputs": [],
   "source": [
    "import time\n",
    "time.sleep(5)"
   ]
  },
  {
   "cell_type": "code",
   "execution_count": null,
   "id": "20022c32",
   "metadata": {},
   "outputs": [],
   "source": [
    "pyautogui.click(x=400,y=173)\n",
    "time.sleep(5)"
   ]
  },
  {
   "cell_type": "code",
   "execution_count": null,
   "id": "1132d3a5",
   "metadata": {},
   "outputs": [],
   "source": [
    "pyautogui.write('Coloque aqui Nome da Pessoa que deseja enviar')\n",
    "time.sleep(1)\n",
    "pyautogui.press(\"enter\")\n"
   ]
  },
  {
   "cell_type": "code",
   "execution_count": null,
   "id": "50658e79",
   "metadata": {},
   "outputs": [],
   "source": [
    "time.sleep(2)\n",
    "pyautogui.write('Coloque aqui sua mensagem')\n",
    "time.sleep(2)\n",
    "pyautogui.press(\"enter\")"
   ]
  },
  {
   "cell_type": "markdown",
   "id": "f601f598",
   "metadata": {},
   "source": []
  }
 ],
 "metadata": {
  "kernelspec": {
   "display_name": "Python 3",
   "language": "python",
   "name": "python3"
  },
  "language_info": {
   "codemirror_mode": {
    "name": "ipython",
    "version": 3
   },
   "file_extension": ".py",
   "mimetype": "text/x-python",
   "name": "python",
   "nbconvert_exporter": "python",
   "pygments_lexer": "ipython3",
   "version": "3.8.8"
  }
 },
 "nbformat": 4,
 "nbformat_minor": 5
}
