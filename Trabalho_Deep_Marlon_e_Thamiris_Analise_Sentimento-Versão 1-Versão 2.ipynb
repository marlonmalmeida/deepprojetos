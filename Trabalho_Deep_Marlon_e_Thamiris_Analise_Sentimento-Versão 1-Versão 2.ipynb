{
 "cells": [
  {
   "cell_type": "markdown",
   "metadata": {
    "id": "VMIfg3scWOMn"
   },
   "source": [
    "**FGV EPGE - Escola de Pós-graduação em Economia**\n",
    "==\n",
    "**Trabalho da Disciplina Deep Learning**\n",
    "==\n",
    "Professores: \n",
    "\n",
    "\n",
    "Monitora: Maria Gabriela Gontijo\n",
    "\n",
    "**Tema: **\n",
    "==\n",
    "Alunos: Marlon Marques Almeida e Thamiris\n",
    "\n",
    "Data: 21/01/2022"
   ]
  },
  {
   "cell_type": "code",
   "execution_count": 6,
   "metadata": {
    "colab": {
     "base_uri": "https://localhost:8080/"
    },
    "id": "fci8ILyWWAuG",
    "outputId": "53424e51-78ea-49c8-dd0c-38caa8cd6d13"
   },
   "outputs": [],
   "source": [
    "import pandas as pd\n",
    "import numpy as np\n",
    "import matplotlib.pyplot as plt\n",
    "import os\n",
    "#from google.colab import drive \n",
    "#drive.mount('/content/drive')\n",
    "np.random.seed(42)"
   ]
  },
  {
   "cell_type": "code",
   "execution_count": 7,
   "metadata": {
    "id": "oUM9Hq5IfI9I"
   },
   "outputs": [],
   "source": [
    "import re # for regex\n",
    "from nltk.corpus import stopwords\n",
    "from nltk.tokenize import word_tokenize\n",
    "from nltk.stem import SnowballStemmer\n",
    "from sklearn.feature_extraction.text import CountVectorizer\n",
    "from sklearn.model_selection import train_test_split\n",
    "from sklearn.naive_bayes import GaussianNB,MultinomialNB,BernoulliNB\n",
    "from sklearn.metrics import accuracy_score\n",
    "import pickle\n"
   ]
  },
  {
   "cell_type": "code",
   "execution_count": 8,
   "metadata": {
    "id": "IzKeDIFqYQa9"
   },
   "outputs": [],
   "source": [
    "#https://www.kaggle.com/muhammedabdulazeem/amazon-electronics-items-reviews\n",
    "\n",
    "df2 = pd.read_csv(r\"C:\\Users\\marlo\\Downloads\\amazonReview.csv\")"
   ]
  },
  {
   "cell_type": "code",
   "execution_count": 9,
   "metadata": {
    "id": "Tpkega6EWgk9"
   },
   "outputs": [],
   "source": [
    "#Importando do drive do Marlon\n",
    "#https://www.kaggle.com/arhamrumi/amazon-product-reviews\n",
    "df=pd.read_csv(r\"C:\\Users\\marlo\\Downloads\\Reviews.csv\")"
   ]
  },
  {
   "cell_type": "code",
   "execution_count": 10,
   "metadata": {
    "colab": {
     "base_uri": "https://localhost:8080/",
     "height": 206
    },
    "id": "3y3V4f6fYpKD",
    "outputId": "6ad6d2df-eef8-41fc-db99-6845bbdc8bbf"
   },
   "outputs": [
    {
     "data": {
      "text/html": [
       "<div>\n",
       "<style scoped>\n",
       "    .dataframe tbody tr th:only-of-type {\n",
       "        vertical-align: middle;\n",
       "    }\n",
       "\n",
       "    .dataframe tbody tr th {\n",
       "        vertical-align: top;\n",
       "    }\n",
       "\n",
       "    .dataframe thead th {\n",
       "        text-align: right;\n",
       "    }\n",
       "</style>\n",
       "<table border=\"1\" class=\"dataframe\">\n",
       "  <thead>\n",
       "    <tr style=\"text-align: right;\">\n",
       "      <th></th>\n",
       "      <th>Reviewer name</th>\n",
       "      <th>title</th>\n",
       "      <th>Review body</th>\n",
       "      <th>Review rating</th>\n",
       "      <th>sentiment</th>\n",
       "    </tr>\n",
       "  </thead>\n",
       "  <tbody>\n",
       "    <tr>\n",
       "      <th>0</th>\n",
       "      <td>Genuine buyer</td>\n",
       "      <td>Pros and cons</td>\n",
       "      <td>Great quality and the sound is actually great....</td>\n",
       "      <td>5.0 out of 5 stars</td>\n",
       "      <td>positive</td>\n",
       "    </tr>\n",
       "    <tr>\n",
       "      <th>1</th>\n",
       "      <td>CHETAN SHETTER</td>\n",
       "      <td>Never Expected in this price range... I Assure...</td>\n",
       "      <td>I've been using this from past 6 months. This ...</td>\n",
       "      <td>5.0 out of 5 stars</td>\n",
       "      <td>positive</td>\n",
       "    </tr>\n",
       "    <tr>\n",
       "      <th>2</th>\n",
       "      <td>Kiran Kumar M</td>\n",
       "      <td>Bass bastler, Awesome HD quality sound, rockin...</td>\n",
       "      <td>Perfect bass and nice one. Superb sound and it...</td>\n",
       "      <td>5.0 out of 5 stars</td>\n",
       "      <td>positive</td>\n",
       "    </tr>\n",
       "    <tr>\n",
       "      <th>3</th>\n",
       "      <td>Raj Patel</td>\n",
       "      <td>Maybe buy boat basshead 100</td>\n",
       "      <td>Here is the review after 1 week of usePros:1.B...</td>\n",
       "      <td>4.0 out of 5 stars</td>\n",
       "      <td>positive</td>\n",
       "    </tr>\n",
       "    <tr>\n",
       "      <th>4</th>\n",
       "      <td>SANJAY KUMAR TIWARI</td>\n",
       "      <td>Superb head stereo better than leading brands.</td>\n",
       "      <td>Purchased after seeing review with suspicion t...</td>\n",
       "      <td>5.0 out of 5 stars</td>\n",
       "      <td>positive</td>\n",
       "    </tr>\n",
       "  </tbody>\n",
       "</table>\n",
       "</div>"
      ],
      "text/plain": [
       "         Reviewer name                                              title  \\\n",
       "0        Genuine buyer                                      Pros and cons   \n",
       "1       CHETAN SHETTER  Never Expected in this price range... I Assure...   \n",
       "2        Kiran Kumar M  Bass bastler, Awesome HD quality sound, rockin...   \n",
       "3            Raj Patel                        Maybe buy boat basshead 100   \n",
       "4  SANJAY KUMAR TIWARI     Superb head stereo better than leading brands.   \n",
       "\n",
       "                                         Review body       Review rating  \\\n",
       "0  Great quality and the sound is actually great....  5.0 out of 5 stars   \n",
       "1  I've been using this from past 6 months. This ...  5.0 out of 5 stars   \n",
       "2  Perfect bass and nice one. Superb sound and it...  5.0 out of 5 stars   \n",
       "3  Here is the review after 1 week of usePros:1.B...  4.0 out of 5 stars   \n",
       "4  Purchased after seeing review with suspicion t...  5.0 out of 5 stars   \n",
       "\n",
       "  sentiment  \n",
       "0  positive  \n",
       "1  positive  \n",
       "2  positive  \n",
       "3  positive  \n",
       "4  positive  "
      ]
     },
     "execution_count": 10,
     "metadata": {},
     "output_type": "execute_result"
    }
   ],
   "source": [
    "df2.head()"
   ]
  },
  {
   "cell_type": "code",
   "execution_count": 11,
   "metadata": {
    "colab": {
     "base_uri": "https://localhost:8080/",
     "height": 337
    },
    "id": "Hw5297ZmXVN8",
    "outputId": "13cbf9c1-9ba5-4f1f-9f50-e846aa7c2b63"
   },
   "outputs": [
    {
     "data": {
      "text/html": [
       "<div>\n",
       "<style scoped>\n",
       "    .dataframe tbody tr th:only-of-type {\n",
       "        vertical-align: middle;\n",
       "    }\n",
       "\n",
       "    .dataframe tbody tr th {\n",
       "        vertical-align: top;\n",
       "    }\n",
       "\n",
       "    .dataframe thead th {\n",
       "        text-align: right;\n",
       "    }\n",
       "</style>\n",
       "<table border=\"1\" class=\"dataframe\">\n",
       "  <thead>\n",
       "    <tr style=\"text-align: right;\">\n",
       "      <th></th>\n",
       "      <th>Id</th>\n",
       "      <th>ProductId</th>\n",
       "      <th>UserId</th>\n",
       "      <th>ProfileName</th>\n",
       "      <th>HelpfulnessNumerator</th>\n",
       "      <th>HelpfulnessDenominator</th>\n",
       "      <th>Score</th>\n",
       "      <th>Time</th>\n",
       "      <th>Summary</th>\n",
       "      <th>Text</th>\n",
       "    </tr>\n",
       "  </thead>\n",
       "  <tbody>\n",
       "    <tr>\n",
       "      <th>0</th>\n",
       "      <td>1</td>\n",
       "      <td>B001E4KFG0</td>\n",
       "      <td>A3SGXH7AUHU8GW</td>\n",
       "      <td>delmartian</td>\n",
       "      <td>1</td>\n",
       "      <td>1</td>\n",
       "      <td>5</td>\n",
       "      <td>1303862400</td>\n",
       "      <td>Good Quality Dog Food</td>\n",
       "      <td>I have bought several of the Vitality canned d...</td>\n",
       "    </tr>\n",
       "    <tr>\n",
       "      <th>1</th>\n",
       "      <td>2</td>\n",
       "      <td>B00813GRG4</td>\n",
       "      <td>A1D87F6ZCVE5NK</td>\n",
       "      <td>dll pa</td>\n",
       "      <td>0</td>\n",
       "      <td>0</td>\n",
       "      <td>1</td>\n",
       "      <td>1346976000</td>\n",
       "      <td>Not as Advertised</td>\n",
       "      <td>Product arrived labeled as Jumbo Salted Peanut...</td>\n",
       "    </tr>\n",
       "    <tr>\n",
       "      <th>2</th>\n",
       "      <td>3</td>\n",
       "      <td>B000LQOCH0</td>\n",
       "      <td>ABXLMWJIXXAIN</td>\n",
       "      <td>Natalia Corres \"Natalia Corres\"</td>\n",
       "      <td>1</td>\n",
       "      <td>1</td>\n",
       "      <td>4</td>\n",
       "      <td>1219017600</td>\n",
       "      <td>\"Delight\" says it all</td>\n",
       "      <td>This is a confection that has been around a fe...</td>\n",
       "    </tr>\n",
       "    <tr>\n",
       "      <th>3</th>\n",
       "      <td>4</td>\n",
       "      <td>B000UA0QIQ</td>\n",
       "      <td>A395BORC6FGVXV</td>\n",
       "      <td>Karl</td>\n",
       "      <td>3</td>\n",
       "      <td>3</td>\n",
       "      <td>2</td>\n",
       "      <td>1307923200</td>\n",
       "      <td>Cough Medicine</td>\n",
       "      <td>If you are looking for the secret ingredient i...</td>\n",
       "    </tr>\n",
       "    <tr>\n",
       "      <th>4</th>\n",
       "      <td>5</td>\n",
       "      <td>B006K2ZZ7K</td>\n",
       "      <td>A1UQRSCLF8GW1T</td>\n",
       "      <td>Michael D. Bigham \"M. Wassir\"</td>\n",
       "      <td>0</td>\n",
       "      <td>0</td>\n",
       "      <td>5</td>\n",
       "      <td>1350777600</td>\n",
       "      <td>Great taffy</td>\n",
       "      <td>Great taffy at a great price.  There was a wid...</td>\n",
       "    </tr>\n",
       "  </tbody>\n",
       "</table>\n",
       "</div>"
      ],
      "text/plain": [
       "   Id   ProductId          UserId                      ProfileName  \\\n",
       "0   1  B001E4KFG0  A3SGXH7AUHU8GW                       delmartian   \n",
       "1   2  B00813GRG4  A1D87F6ZCVE5NK                           dll pa   \n",
       "2   3  B000LQOCH0   ABXLMWJIXXAIN  Natalia Corres \"Natalia Corres\"   \n",
       "3   4  B000UA0QIQ  A395BORC6FGVXV                             Karl   \n",
       "4   5  B006K2ZZ7K  A1UQRSCLF8GW1T    Michael D. Bigham \"M. Wassir\"   \n",
       "\n",
       "   HelpfulnessNumerator  HelpfulnessDenominator  Score        Time  \\\n",
       "0                     1                       1      5  1303862400   \n",
       "1                     0                       0      1  1346976000   \n",
       "2                     1                       1      4  1219017600   \n",
       "3                     3                       3      2  1307923200   \n",
       "4                     0                       0      5  1350777600   \n",
       "\n",
       "                 Summary                                               Text  \n",
       "0  Good Quality Dog Food  I have bought several of the Vitality canned d...  \n",
       "1      Not as Advertised  Product arrived labeled as Jumbo Salted Peanut...  \n",
       "2  \"Delight\" says it all  This is a confection that has been around a fe...  \n",
       "3         Cough Medicine  If you are looking for the secret ingredient i...  \n",
       "4            Great taffy  Great taffy at a great price.  There was a wid...  "
      ]
     },
     "execution_count": 11,
     "metadata": {},
     "output_type": "execute_result"
    }
   ],
   "source": [
    "df.head()"
   ]
  },
  {
   "cell_type": "code",
   "execution_count": 12,
   "metadata": {
    "colab": {
     "base_uri": "https://localhost:8080/"
    },
    "id": "Ej9mirF9Yunj",
    "outputId": "bd8d92eb-5a27-4d08-c57a-6dec0f14537f"
   },
   "outputs": [
    {
     "name": "stdout",
     "output_type": "stream",
     "text": [
      "<class 'pandas.core.frame.DataFrame'>\n",
      "RangeIndex: 449779 entries, 0 to 449778\n",
      "Data columns (total 5 columns):\n",
      " #   Column         Non-Null Count   Dtype \n",
      "---  ------         --------------   ----- \n",
      " 0   Reviewer name  449774 non-null  object\n",
      " 1   title          449723 non-null  object\n",
      " 2   Review body    449715 non-null  object\n",
      " 3   Review rating  411744 non-null  object\n",
      " 4   sentiment      449779 non-null  object\n",
      "dtypes: object(5)\n",
      "memory usage: 17.2+ MB\n"
     ]
    }
   ],
   "source": [
    "df2.info()"
   ]
  },
  {
   "cell_type": "code",
   "execution_count": 13,
   "metadata": {
    "colab": {
     "base_uri": "https://localhost:8080/"
    },
    "id": "VPeJqlTqXd_l",
    "outputId": "875625fe-facc-4349-830e-99f121abfc94"
   },
   "outputs": [
    {
     "name": "stdout",
     "output_type": "stream",
     "text": [
      "<class 'pandas.core.frame.DataFrame'>\n",
      "RangeIndex: 568454 entries, 0 to 568453\n",
      "Data columns (total 10 columns):\n",
      " #   Column                  Non-Null Count   Dtype \n",
      "---  ------                  --------------   ----- \n",
      " 0   Id                      568454 non-null  int64 \n",
      " 1   ProductId               568454 non-null  object\n",
      " 2   UserId                  568454 non-null  object\n",
      " 3   ProfileName             568438 non-null  object\n",
      " 4   HelpfulnessNumerator    568454 non-null  int64 \n",
      " 5   HelpfulnessDenominator  568454 non-null  int64 \n",
      " 6   Score                   568454 non-null  int64 \n",
      " 7   Time                    568454 non-null  int64 \n",
      " 8   Summary                 568427 non-null  object\n",
      " 9   Text                    568454 non-null  object\n",
      "dtypes: int64(5), object(5)\n",
      "memory usage: 43.4+ MB\n"
     ]
    }
   ],
   "source": [
    "df.info()"
   ]
  },
  {
   "cell_type": "code",
   "execution_count": 14,
   "metadata": {
    "colab": {
     "base_uri": "https://localhost:8080/",
     "height": 174
    },
    "id": "aWnsh8SmZNaz",
    "outputId": "7ff41718-9085-44f4-a4bb-55a5b30232dd"
   },
   "outputs": [
    {
     "data": {
      "text/html": [
       "<div>\n",
       "<style scoped>\n",
       "    .dataframe tbody tr th:only-of-type {\n",
       "        vertical-align: middle;\n",
       "    }\n",
       "\n",
       "    .dataframe tbody tr th {\n",
       "        vertical-align: top;\n",
       "    }\n",
       "\n",
       "    .dataframe thead th {\n",
       "        text-align: right;\n",
       "    }\n",
       "</style>\n",
       "<table border=\"1\" class=\"dataframe\">\n",
       "  <thead>\n",
       "    <tr style=\"text-align: right;\">\n",
       "      <th></th>\n",
       "      <th>Reviewer name</th>\n",
       "      <th>title</th>\n",
       "      <th>Review body</th>\n",
       "      <th>Review rating</th>\n",
       "      <th>sentiment</th>\n",
       "    </tr>\n",
       "  </thead>\n",
       "  <tbody>\n",
       "    <tr>\n",
       "      <th>count</th>\n",
       "      <td>449774</td>\n",
       "      <td>449723</td>\n",
       "      <td>449715</td>\n",
       "      <td>411744</td>\n",
       "      <td>449779</td>\n",
       "    </tr>\n",
       "    <tr>\n",
       "      <th>unique</th>\n",
       "      <td>232431</td>\n",
       "      <td>189791</td>\n",
       "      <td>309670</td>\n",
       "      <td>5</td>\n",
       "      <td>2</td>\n",
       "    </tr>\n",
       "    <tr>\n",
       "      <th>top</th>\n",
       "      <td>Amazon Customer</td>\n",
       "      <td>Good</td>\n",
       "      <td>Good</td>\n",
       "      <td>5.0 out of 5 stars</td>\n",
       "      <td>positive</td>\n",
       "    </tr>\n",
       "    <tr>\n",
       "      <th>freq</th>\n",
       "      <td>31234</td>\n",
       "      <td>21917</td>\n",
       "      <td>13919</td>\n",
       "      <td>240739</td>\n",
       "      <td>383122</td>\n",
       "    </tr>\n",
       "  </tbody>\n",
       "</table>\n",
       "</div>"
      ],
      "text/plain": [
       "          Reviewer name   title Review body       Review rating sentiment\n",
       "count            449774  449723      449715              411744    449779\n",
       "unique           232431  189791      309670                   5         2\n",
       "top     Amazon Customer    Good        Good  5.0 out of 5 stars  positive\n",
       "freq              31234   21917       13919              240739    383122"
      ]
     },
     "execution_count": 14,
     "metadata": {},
     "output_type": "execute_result"
    }
   ],
   "source": [
    "df2.describe()"
   ]
  },
  {
   "cell_type": "code",
   "execution_count": 15,
   "metadata": {
    "colab": {
     "base_uri": "https://localhost:8080/",
     "height": 300
    },
    "id": "PeZ6UdI-XlNM",
    "outputId": "c41fd0e6-f32e-4289-8b1b-5b1f49c35b63"
   },
   "outputs": [
    {
     "data": {
      "text/html": [
       "<div>\n",
       "<style scoped>\n",
       "    .dataframe tbody tr th:only-of-type {\n",
       "        vertical-align: middle;\n",
       "    }\n",
       "\n",
       "    .dataframe tbody tr th {\n",
       "        vertical-align: top;\n",
       "    }\n",
       "\n",
       "    .dataframe thead th {\n",
       "        text-align: right;\n",
       "    }\n",
       "</style>\n",
       "<table border=\"1\" class=\"dataframe\">\n",
       "  <thead>\n",
       "    <tr style=\"text-align: right;\">\n",
       "      <th></th>\n",
       "      <th>Id</th>\n",
       "      <th>HelpfulnessNumerator</th>\n",
       "      <th>HelpfulnessDenominator</th>\n",
       "      <th>Score</th>\n",
       "      <th>Time</th>\n",
       "    </tr>\n",
       "  </thead>\n",
       "  <tbody>\n",
       "    <tr>\n",
       "      <th>count</th>\n",
       "      <td>568454.000000</td>\n",
       "      <td>568454.000000</td>\n",
       "      <td>568454.00000</td>\n",
       "      <td>568454.000000</td>\n",
       "      <td>5.684540e+05</td>\n",
       "    </tr>\n",
       "    <tr>\n",
       "      <th>mean</th>\n",
       "      <td>284227.500000</td>\n",
       "      <td>1.743817</td>\n",
       "      <td>2.22881</td>\n",
       "      <td>4.183199</td>\n",
       "      <td>1.296257e+09</td>\n",
       "    </tr>\n",
       "    <tr>\n",
       "      <th>std</th>\n",
       "      <td>164098.679298</td>\n",
       "      <td>7.636513</td>\n",
       "      <td>8.28974</td>\n",
       "      <td>1.310436</td>\n",
       "      <td>4.804331e+07</td>\n",
       "    </tr>\n",
       "    <tr>\n",
       "      <th>min</th>\n",
       "      <td>1.000000</td>\n",
       "      <td>0.000000</td>\n",
       "      <td>0.00000</td>\n",
       "      <td>1.000000</td>\n",
       "      <td>9.393408e+08</td>\n",
       "    </tr>\n",
       "    <tr>\n",
       "      <th>25%</th>\n",
       "      <td>142114.250000</td>\n",
       "      <td>0.000000</td>\n",
       "      <td>0.00000</td>\n",
       "      <td>4.000000</td>\n",
       "      <td>1.271290e+09</td>\n",
       "    </tr>\n",
       "    <tr>\n",
       "      <th>50%</th>\n",
       "      <td>284227.500000</td>\n",
       "      <td>0.000000</td>\n",
       "      <td>1.00000</td>\n",
       "      <td>5.000000</td>\n",
       "      <td>1.311120e+09</td>\n",
       "    </tr>\n",
       "    <tr>\n",
       "      <th>75%</th>\n",
       "      <td>426340.750000</td>\n",
       "      <td>2.000000</td>\n",
       "      <td>2.00000</td>\n",
       "      <td>5.000000</td>\n",
       "      <td>1.332720e+09</td>\n",
       "    </tr>\n",
       "    <tr>\n",
       "      <th>max</th>\n",
       "      <td>568454.000000</td>\n",
       "      <td>866.000000</td>\n",
       "      <td>923.00000</td>\n",
       "      <td>5.000000</td>\n",
       "      <td>1.351210e+09</td>\n",
       "    </tr>\n",
       "  </tbody>\n",
       "</table>\n",
       "</div>"
      ],
      "text/plain": [
       "                  Id  HelpfulnessNumerator  HelpfulnessDenominator  \\\n",
       "count  568454.000000         568454.000000            568454.00000   \n",
       "mean   284227.500000              1.743817                 2.22881   \n",
       "std    164098.679298              7.636513                 8.28974   \n",
       "min         1.000000              0.000000                 0.00000   \n",
       "25%    142114.250000              0.000000                 0.00000   \n",
       "50%    284227.500000              0.000000                 1.00000   \n",
       "75%    426340.750000              2.000000                 2.00000   \n",
       "max    568454.000000            866.000000               923.00000   \n",
       "\n",
       "               Score          Time  \n",
       "count  568454.000000  5.684540e+05  \n",
       "mean        4.183199  1.296257e+09  \n",
       "std         1.310436  4.804331e+07  \n",
       "min         1.000000  9.393408e+08  \n",
       "25%         4.000000  1.271290e+09  \n",
       "50%         5.000000  1.311120e+09  \n",
       "75%         5.000000  1.332720e+09  \n",
       "max         5.000000  1.351210e+09  "
      ]
     },
     "execution_count": 15,
     "metadata": {},
     "output_type": "execute_result"
    }
   ],
   "source": [
    "df.describe()"
   ]
  },
  {
   "cell_type": "code",
   "execution_count": 16,
   "metadata": {
    "colab": {
     "base_uri": "https://localhost:8080/",
     "height": 892
    },
    "id": "bQTfXLXAXtO8",
    "outputId": "4e830713-0142-4010-bb49-75f0c463823e"
   },
   "outputs": [
    {
     "data": {
      "image/png": "[encoded data removed]",
      "text/plain": [
       "<Figure size 1440x1080 with 6 Axes>"
      ]
     },
     "metadata": {
      "needs_background": "light"
     },
     "output_type": "display_data"
    }
   ],
   "source": [
    "df.hist(bins=50, figsize=(20,15))\n",
    "plt.show()"
   ]
  },
  {
   "cell_type": "code",
   "execution_count": 17,
   "metadata": {
    "colab": {
     "base_uri": "https://localhost:8080/"
    },
    "id": "eYnQQnzaZcHb",
    "outputId": "a7f4b489-62f3-4029-ce89-9e045ed945db"
   },
   "outputs": [
    {
     "data": {
      "text/plain": [
       "5    0.638789\n",
       "4    0.141885\n",
       "1    0.091948\n",
       "3    0.075010\n",
       "2    0.052368\n",
       "Name: Score, dtype: float64"
      ]
     },
     "execution_count": 17,
     "metadata": {},
     "output_type": "execute_result"
    }
   ],
   "source": [
    "rating_prop = df[\"Score\"].value_counts()/len(df)\n",
    "rating_prop"
   ]
  },
  {
   "cell_type": "code",
   "execution_count": 18,
   "metadata": {
    "colab": {
     "base_uri": "https://localhost:8080/"
    },
    "id": "Qr5nLTnZX0m8",
    "outputId": "fa412861-b436-4005-b63a-75cb9991b2e6"
   },
   "outputs": [
    {
     "data": {
      "text/plain": [
       "positive    0.851801\n",
       "negative    0.148199\n",
       "Name: sentiment, dtype: float64"
      ]
     },
     "execution_count": 18,
     "metadata": {},
     "output_type": "execute_result"
    }
   ],
   "source": [
    "sentiment_prop = df2[\"sentiment\"].value_counts()/len(df2)\n",
    "sentiment_prop"
   ]
  },
  {
   "cell_type": "code",
   "execution_count": 19,
   "metadata": {
    "colab": {
     "base_uri": "https://localhost:8080/"
    },
    "id": "o2Nb9DZIQCfB",
    "outputId": "41ee4744-8a2a-4b2b-b581-c9b4ac9b601c"
   },
   "outputs": [
    {
     "data": {
      "text/plain": [
       "positive    383122\n",
       "negative     66657\n",
       "Name: sentiment, dtype: int64"
      ]
     },
     "execution_count": 19,
     "metadata": {},
     "output_type": "execute_result"
    }
   ],
   "source": [
    "df2[\"sentiment\"].value_counts()"
   ]
  },
  {
   "cell_type": "code",
   "execution_count": 20,
   "metadata": {
    "colab": {
     "base_uri": "https://localhost:8080/"
    },
    "id": "TpD-AeOoQjw8",
    "outputId": "62019744-982c-4c59-a1f5-7de8d96ec86b"
   },
   "outputs": [
    {
     "name": "stdout",
     "output_type": "stream",
     "text": [
      "0\n",
      "64\n"
     ]
    }
   ],
   "source": [
    "print(df2['sentiment'].isna().sum())\n",
    "print(df2['Review body'].isna().sum())\n",
    "\n"
   ]
  },
  {
   "cell_type": "code",
   "execution_count": 21,
   "metadata": {
    "colab": {
     "base_uri": "https://localhost:8080/"
    },
    "id": "vod08TqtUSY7",
    "outputId": "d747be81-ceba-407e-e44d-44a3b2b65061"
   },
   "outputs": [
    {
     "data": {
      "text/plain": [
       "0"
      ]
     },
     "execution_count": 21,
     "metadata": {},
     "output_type": "execute_result"
    }
   ],
   "source": [
    "df2.drop(df2[df2['Review body'].isna()].index, inplace=True)\n",
    "df2['Review body'].isna().sum()"
   ]
  },
  {
   "cell_type": "code",
   "execution_count": 22,
   "metadata": {
    "colab": {
     "base_uri": "https://localhost:8080/"
    },
    "id": "v4Z7_yScQxhM",
    "outputId": "178636b7-f9e6-49d8-b803-61bea37b3776"
   },
   "outputs": [
    {
     "data": {
      "text/plain": [
       "0"
      ]
     },
     "execution_count": 22,
     "metadata": {},
     "output_type": "execute_result"
    }
   ],
   "source": [
    "df['Score'].isna().sum()"
   ]
  },
  {
   "cell_type": "code",
   "execution_count": 23,
   "metadata": {
    "colab": {
     "base_uri": "https://localhost:8080/",
     "height": 206
    },
    "id": "LQk3Z-kQTtdF",
    "outputId": "21bf4203-cf4e-42db-b2e7-118685f1bec0"
   },
   "outputs": [
    {
     "data": {
      "text/html": [
       "<div>\n",
       "<style scoped>\n",
       "    .dataframe tbody tr th:only-of-type {\n",
       "        vertical-align: middle;\n",
       "    }\n",
       "\n",
       "    .dataframe tbody tr th {\n",
       "        vertical-align: top;\n",
       "    }\n",
       "\n",
       "    .dataframe thead th {\n",
       "        text-align: right;\n",
       "    }\n",
       "</style>\n",
       "<table border=\"1\" class=\"dataframe\">\n",
       "  <thead>\n",
       "    <tr style=\"text-align: right;\">\n",
       "      <th></th>\n",
       "      <th>index</th>\n",
       "      <th>Reviewer name</th>\n",
       "      <th>title</th>\n",
       "      <th>Review body</th>\n",
       "      <th>Review rating</th>\n",
       "      <th>sentiment</th>\n",
       "    </tr>\n",
       "  </thead>\n",
       "  <tbody>\n",
       "    <tr>\n",
       "      <th>0</th>\n",
       "      <td>0</td>\n",
       "      <td>Genuine buyer</td>\n",
       "      <td>Pros and cons</td>\n",
       "      <td>Great quality and the sound is actually great....</td>\n",
       "      <td>5.0 out of 5 stars</td>\n",
       "      <td>positive</td>\n",
       "    </tr>\n",
       "    <tr>\n",
       "      <th>1</th>\n",
       "      <td>1</td>\n",
       "      <td>CHETAN SHETTER</td>\n",
       "      <td>Never Expected in this price range... I Assure...</td>\n",
       "      <td>I've been using this from past 6 months. This ...</td>\n",
       "      <td>5.0 out of 5 stars</td>\n",
       "      <td>positive</td>\n",
       "    </tr>\n",
       "    <tr>\n",
       "      <th>2</th>\n",
       "      <td>2</td>\n",
       "      <td>Kiran Kumar M</td>\n",
       "      <td>Bass bastler, Awesome HD quality sound, rockin...</td>\n",
       "      <td>Perfect bass and nice one. Superb sound and it...</td>\n",
       "      <td>5.0 out of 5 stars</td>\n",
       "      <td>positive</td>\n",
       "    </tr>\n",
       "    <tr>\n",
       "      <th>3</th>\n",
       "      <td>3</td>\n",
       "      <td>Raj Patel</td>\n",
       "      <td>Maybe buy boat basshead 100</td>\n",
       "      <td>Here is the review after 1 week of usePros:1.B...</td>\n",
       "      <td>4.0 out of 5 stars</td>\n",
       "      <td>positive</td>\n",
       "    </tr>\n",
       "    <tr>\n",
       "      <th>4</th>\n",
       "      <td>4</td>\n",
       "      <td>SANJAY KUMAR TIWARI</td>\n",
       "      <td>Superb head stereo better than leading brands.</td>\n",
       "      <td>Purchased after seeing review with suspicion t...</td>\n",
       "      <td>5.0 out of 5 stars</td>\n",
       "      <td>positive</td>\n",
       "    </tr>\n",
       "  </tbody>\n",
       "</table>\n",
       "</div>"
      ],
      "text/plain": [
       "   index        Reviewer name  \\\n",
       "0      0        Genuine buyer   \n",
       "1      1       CHETAN SHETTER   \n",
       "2      2        Kiran Kumar M   \n",
       "3      3            Raj Patel   \n",
       "4      4  SANJAY KUMAR TIWARI   \n",
       "\n",
       "                                               title  \\\n",
       "0                                      Pros and cons   \n",
       "1  Never Expected in this price range... I Assure...   \n",
       "2  Bass bastler, Awesome HD quality sound, rockin...   \n",
       "3                        Maybe buy boat basshead 100   \n",
       "4     Superb head stereo better than leading brands.   \n",
       "\n",
       "                                         Review body       Review rating  \\\n",
       "0  Great quality and the sound is actually great....  5.0 out of 5 stars   \n",
       "1  I've been using this from past 6 months. This ...  5.0 out of 5 stars   \n",
       "2  Perfect bass and nice one. Superb sound and it...  5.0 out of 5 stars   \n",
       "3  Here is the review after 1 week of usePros:1.B...  4.0 out of 5 stars   \n",
       "4  Purchased after seeing review with suspicion t...  5.0 out of 5 stars   \n",
       "\n",
       "  sentiment  \n",
       "0  positive  \n",
       "1  positive  \n",
       "2  positive  \n",
       "3  positive  \n",
       "4  positive  "
      ]
     },
     "execution_count": 23,
     "metadata": {},
     "output_type": "execute_result"
    }
   ],
   "source": [
    "df3 = df2.reset_index()\n",
    "df3.head()"
   ]
  },
  {
   "cell_type": "code",
   "execution_count": 24,
   "metadata": {
    "colab": {
     "base_uri": "https://localhost:8080/"
    },
    "id": "VRtzwUrbgkxU",
    "outputId": "9351e26d-5d7f-48ea-89a3-f0e348c0999b"
   },
   "outputs": [
    {
     "data": {
      "text/html": [
       "<div>\n",
       "<style scoped>\n",
       "    .dataframe tbody tr th:only-of-type {\n",
       "        vertical-align: middle;\n",
       "    }\n",
       "\n",
       "    .dataframe tbody tr th {\n",
       "        vertical-align: top;\n",
       "    }\n",
       "\n",
       "    .dataframe thead th {\n",
       "        text-align: right;\n",
       "    }\n",
       "</style>\n",
       "<table border=\"1\" class=\"dataframe\">\n",
       "  <thead>\n",
       "    <tr style=\"text-align: right;\">\n",
       "      <th></th>\n",
       "      <th>index</th>\n",
       "      <th>reviewer_name</th>\n",
       "      <th>title</th>\n",
       "      <th>review_body</th>\n",
       "      <th>review_rating</th>\n",
       "      <th>sentiment</th>\n",
       "    </tr>\n",
       "  </thead>\n",
       "  <tbody>\n",
       "    <tr>\n",
       "      <th>0</th>\n",
       "      <td>0</td>\n",
       "      <td>Genuine buyer</td>\n",
       "      <td>Pros and cons</td>\n",
       "      <td>Great quality and the sound is actually great....</td>\n",
       "      <td>5.0 out of 5 stars</td>\n",
       "      <td>positive</td>\n",
       "    </tr>\n",
       "    <tr>\n",
       "      <th>1</th>\n",
       "      <td>1</td>\n",
       "      <td>CHETAN SHETTER</td>\n",
       "      <td>Never Expected in this price range... I Assure...</td>\n",
       "      <td>I've been using this from past 6 months. This ...</td>\n",
       "      <td>5.0 out of 5 stars</td>\n",
       "      <td>positive</td>\n",
       "    </tr>\n",
       "    <tr>\n",
       "      <th>2</th>\n",
       "      <td>2</td>\n",
       "      <td>Kiran Kumar M</td>\n",
       "      <td>Bass bastler, Awesome HD quality sound, rockin...</td>\n",
       "      <td>Perfect bass and nice one. Superb sound and it...</td>\n",
       "      <td>5.0 out of 5 stars</td>\n",
       "      <td>positive</td>\n",
       "    </tr>\n",
       "    <tr>\n",
       "      <th>3</th>\n",
       "      <td>3</td>\n",
       "      <td>Raj Patel</td>\n",
       "      <td>Maybe buy boat basshead 100</td>\n",
       "      <td>Here is the review after 1 week of usePros:1.B...</td>\n",
       "      <td>4.0 out of 5 stars</td>\n",
       "      <td>positive</td>\n",
       "    </tr>\n",
       "    <tr>\n",
       "      <th>4</th>\n",
       "      <td>4</td>\n",
       "      <td>SANJAY KUMAR TIWARI</td>\n",
       "      <td>Superb head stereo better than leading brands.</td>\n",
       "      <td>Purchased after seeing review with suspicion t...</td>\n",
       "      <td>5.0 out of 5 stars</td>\n",
       "      <td>positive</td>\n",
       "    </tr>\n",
       "    <tr>\n",
       "      <th>...</th>\n",
       "      <td>...</td>\n",
       "      <td>...</td>\n",
       "      <td>...</td>\n",
       "      <td>...</td>\n",
       "      <td>...</td>\n",
       "      <td>...</td>\n",
       "    </tr>\n",
       "    <tr>\n",
       "      <th>449710</th>\n",
       "      <td>449774</td>\n",
       "      <td>Dipchand</td>\n",
       "      <td>Not good</td>\n",
       "      <td>One side head phone is not working within 10 d...</td>\n",
       "      <td>1.0 out of 5 stars</td>\n",
       "      <td>negative</td>\n",
       "    </tr>\n",
       "    <tr>\n",
       "      <th>449711</th>\n",
       "      <td>449775</td>\n",
       "      <td>Amazon Customer</td>\n",
       "      <td>Need replacement</td>\n",
       "      <td>Quality is good. And there is some damage near...</td>\n",
       "      <td>1.0 out of 5 stars</td>\n",
       "      <td>negative</td>\n",
       "    </tr>\n",
       "    <tr>\n",
       "      <th>449712</th>\n",
       "      <td>449776</td>\n",
       "      <td>MAYANK MISHRA</td>\n",
       "      <td>Stopped working after 1 month.</td>\n",
       "      <td>Your browser does not support HTML5 video.  Af...</td>\n",
       "      <td>3.0 out of 5 stars</td>\n",
       "      <td>negative</td>\n",
       "    </tr>\n",
       "    <tr>\n",
       "      <th>449713</th>\n",
       "      <td>449777</td>\n",
       "      <td>Zan</td>\n",
       "      <td>Cheap Quality.</td>\n",
       "      <td>This product is of very cheap quality. Wouldn'...</td>\n",
       "      <td>1.0 out of 5 stars</td>\n",
       "      <td>negative</td>\n",
       "    </tr>\n",
       "    <tr>\n",
       "      <th>449714</th>\n",
       "      <td>449778</td>\n",
       "      <td>SK Raju</td>\n",
       "      <td>First few days only it works</td>\n",
       "      <td>Bad luck to buy, within month went bad does no...</td>\n",
       "      <td>2.0 out of 5 stars</td>\n",
       "      <td>negative</td>\n",
       "    </tr>\n",
       "  </tbody>\n",
       "</table>\n",
       "<p>449715 rows × 6 columns</p>\n",
       "</div>"
      ],
      "text/plain": [
       "         index        reviewer_name  \\\n",
       "0            0        Genuine buyer   \n",
       "1            1       CHETAN SHETTER   \n",
       "2            2        Kiran Kumar M   \n",
       "3            3            Raj Patel   \n",
       "4            4  SANJAY KUMAR TIWARI   \n",
       "...        ...                  ...   \n",
       "449710  449774             Dipchand   \n",
       "449711  449775      Amazon Customer   \n",
       "449712  449776        MAYANK MISHRA   \n",
       "449713  449777                  Zan   \n",
       "449714  449778              SK Raju   \n",
       "\n",
       "                                                    title  \\\n",
       "0                                           Pros and cons   \n",
       "1       Never Expected in this price range... I Assure...   \n",
       "2       Bass bastler, Awesome HD quality sound, rockin...   \n",
       "3                             Maybe buy boat basshead 100   \n",
       "4          Superb head stereo better than leading brands.   \n",
       "...                                                   ...   \n",
       "449710                                           Not good   \n",
       "449711                                   Need replacement   \n",
       "449712                     Stopped working after 1 month.   \n",
       "449713                                     Cheap Quality.   \n",
       "449714                       First few days only it works   \n",
       "\n",
       "                                              review_body       review_rating  \\\n",
       "0       Great quality and the sound is actually great....  5.0 out of 5 stars   \n",
       "1       I've been using this from past 6 months. This ...  5.0 out of 5 stars   \n",
       "2       Perfect bass and nice one. Superb sound and it...  5.0 out of 5 stars   \n",
       "3       Here is the review after 1 week of usePros:1.B...  4.0 out of 5 stars   \n",
       "4       Purchased after seeing review with suspicion t...  5.0 out of 5 stars   \n",
       "...                                                   ...                 ...   \n",
       "449710  One side head phone is not working within 10 d...  1.0 out of 5 stars   \n",
       "449711  Quality is good. And there is some damage near...  1.0 out of 5 stars   \n",
       "449712  Your browser does not support HTML5 video.  Af...  3.0 out of 5 stars   \n",
       "449713  This product is of very cheap quality. Wouldn'...  1.0 out of 5 stars   \n",
       "449714  Bad luck to buy, within month went bad does no...  2.0 out of 5 stars   \n",
       "\n",
       "       sentiment  \n",
       "0       positive  \n",
       "1       positive  \n",
       "2       positive  \n",
       "3       positive  \n",
       "4       positive  \n",
       "...          ...  \n",
       "449710  negative  \n",
       "449711  negative  \n",
       "449712  negative  \n",
       "449713  negative  \n",
       "449714  negative  \n",
       "\n",
       "[449715 rows x 6 columns]"
      ]
     },
     "execution_count": 24,
     "metadata": {},
     "output_type": "execute_result"
    }
   ],
   "source": [
    "df3 = df3.rename(columns={'Review body': 'review_body','Reviewer name':'reviewer_name','Review rating':'review_rating'})\n",
    "df3"
   ]
  },
  {
   "cell_type": "code",
   "execution_count": null,
   "metadata": {},
   "outputs": [],
   "source": []
  },
  {
   "cell_type": "markdown",
   "metadata": {
    "id": "9mbFDVDGg-0W"
   },
   "source": [
    "1. Remove HTML tags\n",
    "\n",
    "Regex rule : ‘<.*?>’"
   ]
  },
  {
   "cell_type": "code",
   "execution_count": 25,
   "metadata": {
    "colab": {
     "base_uri": "https://localhost:8080/",
     "height": 35
    },
    "id": "osjxKYOEcC-5",
    "outputId": "2a72842b-f131-4272-ce5a-9c86f211980d"
   },
   "outputs": [
    {
     "data": {
      "text/plain": [
       "'Sounds effect is good'"
      ]
     },
     "execution_count": 25,
     "metadata": {},
     "output_type": "execute_result"
    }
   ],
   "source": [
    "def clean(text):\n",
    "    cleaned = re.compile(r'<.*?>')\n",
    "    return re.sub(cleaned,'',text)\n",
    "\n",
    "df3.review_body = df3.review_body.apply(clean)\n",
    "df3.review_body[48946]"
   ]
  },
  {
   "cell_type": "markdown",
   "metadata": {
    "id": "FtNSZvjVhEY2"
   },
   "source": [
    "2. Remove special characters"
   ]
  },
  {
   "cell_type": "code",
   "execution_count": 26,
   "metadata": {
    "colab": {
     "base_uri": "https://localhost:8080/",
     "height": 53
    },
    "id": "vZP3DlQkgX-G",
    "outputId": "c6713d74-599b-4d06-dc5a-637b422ba5d2"
   },
   "outputs": [
    {
     "data": {
      "text/plain": [
       "'Great quality and the sound is actually great Pros1  hd sound quality is great it has micro woffers 2  built quality is great wires are thick 3  hd calling is great my voice was clearly audible to other person on the call Cons1  sometimes earbuds hurt the ears and they might not be comfortable to some people otherwise it s a great product'"
      ]
     },
     "execution_count": 26,
     "metadata": {},
     "output_type": "execute_result"
    }
   ],
   "source": [
    "def is_special(text):\n",
    "    rem = ''\n",
    "    for i in text:\n",
    "        if i.isalnum():\n",
    "            rem = rem + i\n",
    "        else:\n",
    "            rem = rem + ' '\n",
    "    return rem\n",
    "\n",
    "df3.review_body = df3.review_body.apply(is_special)\n",
    "df3.review_body[0]"
   ]
  },
  {
   "cell_type": "markdown",
   "metadata": {
    "id": "0uiSUGRohq7-"
   },
   "source": [
    "3. Convert everything to lowercase"
   ]
  },
  {
   "cell_type": "code",
   "execution_count": 27,
   "metadata": {
    "colab": {
     "base_uri": "https://localhost:8080/",
     "height": 53
    },
    "id": "VXp7xN5-htS2",
    "outputId": "6503e05a-9d4e-48dd-d456-e26aa8ba4f14"
   },
   "outputs": [
    {
     "data": {
      "text/plain": [
       "'great quality and the sound is actually great pros1  hd sound quality is great it has micro woffers 2  built quality is great wires are thick 3  hd calling is great my voice was clearly audible to other person on the call cons1  sometimes earbuds hurt the ears and they might not be comfortable to some people otherwise it s a great product'"
      ]
     },
     "execution_count": 27,
     "metadata": {},
     "output_type": "execute_result"
    }
   ],
   "source": [
    "def to_lower(text):\n",
    "    return text.lower()\n",
    "\n",
    "df3.review_body = df3.review_body.apply(to_lower)\n",
    "df3.review_body[0]"
   ]
  },
  {
   "cell_type": "markdown",
   "metadata": {
    "id": "SL3AHk3Nh7nZ"
   },
   "source": [
    "4. Remove stopwords"
   ]
  },
  {
   "cell_type": "code",
   "execution_count": 28,
   "metadata": {
    "colab": {
     "base_uri": "https://localhost:8080/"
    },
    "id": "K9giwn_Ch-LO",
    "outputId": "08b14b08-b0dc-4e38-dcc1-c71f88eccd53"
   },
   "outputs": [
    {
     "name": "stderr",
     "output_type": "stream",
     "text": [
      "[nltk_data] Downloading package stopwords to\n",
      "[nltk_data]     C:\\Users\\marlo\\AppData\\Roaming\\nltk_data...\n",
      "[nltk_data]   Package stopwords is already up-to-date!\n",
      "[nltk_data] Downloading package punkt to\n",
      "[nltk_data]     C:\\Users\\marlo\\AppData\\Roaming\\nltk_data...\n",
      "[nltk_data]   Package punkt is already up-to-date!\n"
     ]
    },
    {
     "data": {
      "text/plain": [
       "['great',\n",
       " 'quality',\n",
       " 'sound',\n",
       " 'actually',\n",
       " 'great',\n",
       " 'pros1',\n",
       " 'hd',\n",
       " 'sound',\n",
       " 'quality',\n",
       " 'great',\n",
       " 'micro',\n",
       " 'woffers',\n",
       " '2',\n",
       " 'built',\n",
       " 'quality',\n",
       " 'great',\n",
       " 'wires',\n",
       " 'thick',\n",
       " '3',\n",
       " 'hd',\n",
       " 'calling',\n",
       " 'great',\n",
       " 'voice',\n",
       " 'clearly',\n",
       " 'audible',\n",
       " 'person',\n",
       " 'call',\n",
       " 'cons1',\n",
       " 'sometimes',\n",
       " 'earbuds',\n",
       " 'hurt',\n",
       " 'ears',\n",
       " 'might',\n",
       " 'comfortable',\n",
       " 'people',\n",
       " 'otherwise',\n",
       " 'great',\n",
       " 'product']"
      ]
     },
     "execution_count": 28,
     "metadata": {},
     "output_type": "execute_result"
    }
   ],
   "source": [
    "import nltk\n",
    "nltk.download('stopwords')\n",
    "nltk.download('punkt')\n",
    "\n",
    "def rem_stopwords(text):\n",
    "    stop_words = set(stopwords.words('english'))\n",
    "    words = word_tokenize(text)\n",
    "    return [w for w in words if w not in stop_words]\n",
    "\n",
    "df3.review_body = df3.review_body.apply(rem_stopwords)\n",
    "df3.review_body[0]"
   ]
  },
  {
   "cell_type": "markdown",
   "metadata": {
    "id": "6w47a1EHiTO4"
   },
   "source": [
    "5. Stem the words"
   ]
  },
  {
   "cell_type": "code",
   "execution_count": 29,
   "metadata": {
    "colab": {
     "base_uri": "https://localhost:8080/",
     "height": 53
    },
    "id": "LG_hBclriQAs",
    "outputId": "416765a2-2365-4fd0-85a1-cfc67735c170"
   },
   "outputs": [
    {
     "data": {
      "text/plain": [
       "'great qualiti sound actual great pros1 hd sound qualiti great micro woffer 2 built qualiti great wire thick 3 hd call great voic clear audibl person call cons1 sometim earbud hurt ear might comfort peopl otherwis great product'"
      ]
     },
     "execution_count": 29,
     "metadata": {},
     "output_type": "execute_result"
    }
   ],
   "source": [
    "def stem_txt(text):\n",
    "    ss = SnowballStemmer('english') #tem portugues também\n",
    "    return \" \".join([ss.stem(w) for w in text])\n",
    "\n",
    "df3.review_body = df3.review_body.apply(stem_txt)\n",
    "df3.review_body[0]"
   ]
  },
  {
   "cell_type": "code",
   "execution_count": 30,
   "metadata": {
    "colab": {
     "base_uri": "https://localhost:8080/"
    },
    "id": "vcxGK6fTmJzz",
    "outputId": "043d460e-a455-458a-e412-d7bb1184b3ca"
   },
   "outputs": [
    {
     "data": {
      "text/plain": [
       "array(['great qualiti sound actual great pros1 hd sound qualiti great micro woffer 2 built qualiti great wire thick 3 hd call great voic clear audibl person call cons1 sometim earbud hurt ear might comfort peopl otherwis great product',\n",
       "       'use past 6 month actual earphon search realli great experi spec earphon great micro woofer deliv great sound qualiti bass nois cancel upto mark earphon never slip ear allow deliv gread sound effect right earphon damag brother',\n",
       "       'perfect bass nice one superb sound nois cancel simpli superb worthi',\n",
       "       ...,\n",
       "       'browser support html5 video 1 month use stop work updat review',\n",
       "       'product cheap qualiti recommend',\n",
       "       'bad luck buy within month went bad give sound low'], dtype=object)"
      ]
     },
     "execution_count": 30,
     "metadata": {},
     "output_type": "execute_result"
    }
   ],
   "source": [
    "df3.iloc[:,3].values"
   ]
  },
  {
   "cell_type": "code",
   "execution_count": 31,
   "metadata": {},
   "outputs": [
    {
     "data": {
      "text/html": [
       "<div>\n",
       "<style scoped>\n",
       "    .dataframe tbody tr th:only-of-type {\n",
       "        vertical-align: middle;\n",
       "    }\n",
       "\n",
       "    .dataframe tbody tr th {\n",
       "        vertical-align: top;\n",
       "    }\n",
       "\n",
       "    .dataframe thead th {\n",
       "        text-align: right;\n",
       "    }\n",
       "</style>\n",
       "<table border=\"1\" class=\"dataframe\">\n",
       "  <thead>\n",
       "    <tr style=\"text-align: right;\">\n",
       "      <th></th>\n",
       "      <th>index</th>\n",
       "      <th>reviewer_name</th>\n",
       "      <th>title</th>\n",
       "      <th>review_body</th>\n",
       "      <th>review_rating</th>\n",
       "    </tr>\n",
       "  </thead>\n",
       "  <tbody>\n",
       "    <tr>\n",
       "      <th>0</th>\n",
       "      <td>0</td>\n",
       "      <td>Genuine buyer</td>\n",
       "      <td>Pros and cons</td>\n",
       "      <td>great qualiti sound actual great pros1 hd soun...</td>\n",
       "      <td>5.0 out of 5 stars</td>\n",
       "    </tr>\n",
       "    <tr>\n",
       "      <th>1</th>\n",
       "      <td>1</td>\n",
       "      <td>CHETAN SHETTER</td>\n",
       "      <td>Never Expected in this price range... I Assure...</td>\n",
       "      <td>use past 6 month actual earphon search realli ...</td>\n",
       "      <td>5.0 out of 5 stars</td>\n",
       "    </tr>\n",
       "    <tr>\n",
       "      <th>2</th>\n",
       "      <td>2</td>\n",
       "      <td>Kiran Kumar M</td>\n",
       "      <td>Bass bastler, Awesome HD quality sound, rockin...</td>\n",
       "      <td>perfect bass nice one superb sound nois cancel...</td>\n",
       "      <td>5.0 out of 5 stars</td>\n",
       "    </tr>\n",
       "    <tr>\n",
       "      <th>3</th>\n",
       "      <td>3</td>\n",
       "      <td>Raj Patel</td>\n",
       "      <td>Maybe buy boat basshead 100</td>\n",
       "      <td>review 1 week usepro 1 best build qualiti even...</td>\n",
       "      <td>4.0 out of 5 stars</td>\n",
       "    </tr>\n",
       "    <tr>\n",
       "      <th>4</th>\n",
       "      <td>4</td>\n",
       "      <td>SANJAY KUMAR TIWARI</td>\n",
       "      <td>Superb head stereo better than leading brands.</td>\n",
       "      <td>purchas see review suspicion may result stupid...</td>\n",
       "      <td>5.0 out of 5 stars</td>\n",
       "    </tr>\n",
       "  </tbody>\n",
       "</table>\n",
       "</div>"
      ],
      "text/plain": [
       "   index        reviewer_name  \\\n",
       "0      0        Genuine buyer   \n",
       "1      1       CHETAN SHETTER   \n",
       "2      2        Kiran Kumar M   \n",
       "3      3            Raj Patel   \n",
       "4      4  SANJAY KUMAR TIWARI   \n",
       "\n",
       "                                               title  \\\n",
       "0                                      Pros and cons   \n",
       "1  Never Expected in this price range... I Assure...   \n",
       "2  Bass bastler, Awesome HD quality sound, rockin...   \n",
       "3                        Maybe buy boat basshead 100   \n",
       "4     Superb head stereo better than leading brands.   \n",
       "\n",
       "                                         review_body       review_rating  \n",
       "0  great qualiti sound actual great pros1 hd soun...  5.0 out of 5 stars  \n",
       "1  use past 6 month actual earphon search realli ...  5.0 out of 5 stars  \n",
       "2  perfect bass nice one superb sound nois cancel...  5.0 out of 5 stars  \n",
       "3  review 1 week usepro 1 best build qualiti even...  4.0 out of 5 stars  \n",
       "4  purchas see review suspicion may result stupid...  5.0 out of 5 stars  "
      ]
     },
     "execution_count": 31,
     "metadata": {},
     "output_type": "execute_result"
    }
   ],
   "source": [
    "todrop = ['sentiment']\n",
    "df4 = df3.drop(todrop, axis=1)\n",
    "df4.head()"
   ]
  },
  {
   "cell_type": "code",
   "execution_count": null,
   "metadata": {
    "colab": {
     "base_uri": "https://localhost:8080/"
    },
    "id": "lcwuyW6rj0fo",
    "outputId": "215c9ae6-74d2-4394-ef67-e9b8053fdbe5"
   },
   "outputs": [],
   "source": []
  },
  {
   "cell_type": "code",
   "execution_count": 32,
   "metadata": {
    "id": "BvKDtVpQmd-V"
   },
   "outputs": [],
   "source": [
    "from sklearn.model_selection import StratifiedShuffleSplit\n",
    "\n",
    "split = StratifiedShuffleSplit(n_splits=1, test_size=0.2)\n",
    "for train_index, test_index in split.split(df3, df3['sentiment']):\n",
    "    train_set = df3.loc[train_index]\n",
    "    test_set = df3.loc[test_index]"
   ]
  },
  {
   "cell_type": "code",
   "execution_count": 33,
   "metadata": {
    "colab": {
     "base_uri": "https://localhost:8080/"
    },
    "id": "mWbtIHr2Vh2r",
    "outputId": "11a121b5-7490-4f10-cbfc-d328eed3114a"
   },
   "outputs": [
    {
     "name": "stdout",
     "output_type": "stream",
     "text": [
      "Treino: 359772\n",
      "Teste: 89943\n"
     ]
    }
   ],
   "source": [
    "print(f\"Treino: {len(train_set)}\\nTeste: {len(test_set)}\")"
   ]
  },
  {
   "cell_type": "code",
   "execution_count": 34,
   "metadata": {
    "colab": {
     "base_uri": "https://localhost:8080/"
    },
    "id": "t4-6GpDyYHPq",
    "outputId": "11e31d80-9870-43e3-cc9e-375972668280"
   },
   "outputs": [
    {
     "data": {
      "text/plain": [
       "sentiment\n",
       "negative    0.148214\n",
       "positive    0.851786\n",
       "Name: index, dtype: float64"
      ]
     },
     "execution_count": 34,
     "metadata": {},
     "output_type": "execute_result"
    }
   ],
   "source": [
    "sentiment_prop = df3.groupby('sentiment')['index'].count()/len(df3)\n",
    "sentiment_prop"
   ]
  },
  {
   "cell_type": "code",
   "execution_count": 35,
   "metadata": {},
   "outputs": [
    {
     "ename": "NameError",
     "evalue": "name 'train_setx' is not defined",
     "output_type": "error",
     "traceback": [
      "\u001b[1;31m---------------------------------------------------------------------------\u001b[0m",
      "\u001b[1;31mNameError\u001b[0m                                 Traceback (most recent call last)",
      "\u001b[1;32m<ipython-input-35-08144e79f852>\u001b[0m in \u001b[0;36m<module>\u001b[1;34m\u001b[0m\n\u001b[1;32m----> 1\u001b[1;33m \u001b[0mtrain_setx\u001b[0m\u001b[1;33m\u001b[0m\u001b[1;33m\u001b[0m\u001b[0m\n\u001b[0m",
      "\u001b[1;31mNameError\u001b[0m: name 'train_setx' is not defined"
     ]
    }
   ],
   "source": [
    "train_setx"
   ]
  },
  {
   "cell_type": "code",
   "execution_count": 36,
   "metadata": {
    "colab": {
     "base_uri": "https://localhost:8080/"
    },
    "id": "ama4R1oVnk-A",
    "outputId": "5c0e5d90-9726-4288-c7c1-a9e8f7379d61"
   },
   "outputs": [],
   "source": [
    "#Excluindo da base de treino e teste atraibuto Credit Score Cat\n",
    "train_setx = train_set.copy()\n",
    "test_setx = test_set.copy()\n",
    "xtrain = np.array(train_setx.drop('sentiment', axis=1, inplace=True))\n",
    "xtest = np.array(test_setx.drop('sentiment', axis=1, inplace=True))"
   ]
  },
  {
   "cell_type": "code",
   "execution_count": 37,
   "metadata": {},
   "outputs": [],
   "source": [
    "ytrain = np.array(train_set['sentiment'])\n",
    "ytest=np.array(test_set['sentiment'])"
   ]
  },
  {
   "cell_type": "code",
   "execution_count": 38,
   "metadata": {},
   "outputs": [
    {
     "name": "stdout",
     "output_type": "stream",
     "text": [
      "X.shape =  (359772, 1000)\n",
      "y.shape =  (359772,)\n",
      "X.shape =  (89943, 1000)\n",
      "y.shape =  (89943,)\n"
     ]
    }
   ],
   "source": [
    "Xtest_reg = np.array(test_setx.iloc[:,3].values)\n",
    "Xtrain_reg = np.array(train_setx.iloc[:,3].values)\n",
    "ytrain = np.array(train_set.sentiment.values)\n",
    "ytest = np.array(test_set.sentiment.values)\n",
    "cv = CountVectorizer(max_features = 1000)\n",
    "Xtrain_reg = cv.fit_transform(train_setx.review_body).toarray()\n",
    "Xtest_reg = cv.fit_transform(test_setx.review_body).toarray()\n",
    "print(\"X.shape = \",Xtrain_reg.shape)\n",
    "print(\"y.shape = \",ytrain.shape)\n",
    "print(\"X.shape = \",Xtest_reg.shape)\n",
    "print(\"y.shape = \",ytest.shape)"
   ]
  },
  {
   "cell_type": "code",
   "execution_count": 103,
   "metadata": {},
   "outputs": [
    {
     "data": {
      "text/html": [
       "<div>\n",
       "<style scoped>\n",
       "    .dataframe tbody tr th:only-of-type {\n",
       "        vertical-align: middle;\n",
       "    }\n",
       "\n",
       "    .dataframe tbody tr th {\n",
       "        vertical-align: top;\n",
       "    }\n",
       "\n",
       "    .dataframe thead th {\n",
       "        text-align: right;\n",
       "    }\n",
       "</style>\n",
       "<table border=\"1\" class=\"dataframe\">\n",
       "  <thead>\n",
       "    <tr style=\"text-align: right;\">\n",
       "      <th></th>\n",
       "      <th>index</th>\n",
       "      <th>reviewer_name</th>\n",
       "      <th>title</th>\n",
       "      <th>review_body</th>\n",
       "      <th>review_rating</th>\n",
       "      <th>sentiment</th>\n",
       "      <th>negative</th>\n",
       "      <th>positive</th>\n",
       "    </tr>\n",
       "  </thead>\n",
       "  <tbody>\n",
       "    <tr>\n",
       "      <th>0</th>\n",
       "      <td>0</td>\n",
       "      <td>Genuine buyer</td>\n",
       "      <td>Pros and cons</td>\n",
       "      <td>great qualiti sound actual great pros1 hd soun...</td>\n",
       "      <td>5.0 out of 5 stars</td>\n",
       "      <td>positive</td>\n",
       "      <td>0</td>\n",
       "      <td>1</td>\n",
       "    </tr>\n",
       "    <tr>\n",
       "      <th>1</th>\n",
       "      <td>1</td>\n",
       "      <td>CHETAN SHETTER</td>\n",
       "      <td>Never Expected in this price range... I Assure...</td>\n",
       "      <td>use past 6 month actual earphon search realli ...</td>\n",
       "      <td>5.0 out of 5 stars</td>\n",
       "      <td>positive</td>\n",
       "      <td>0</td>\n",
       "      <td>1</td>\n",
       "    </tr>\n",
       "    <tr>\n",
       "      <th>2</th>\n",
       "      <td>2</td>\n",
       "      <td>Kiran Kumar M</td>\n",
       "      <td>Bass bastler, Awesome HD quality sound, rockin...</td>\n",
       "      <td>perfect bass nice one superb sound nois cancel...</td>\n",
       "      <td>5.0 out of 5 stars</td>\n",
       "      <td>positive</td>\n",
       "      <td>0</td>\n",
       "      <td>1</td>\n",
       "    </tr>\n",
       "    <tr>\n",
       "      <th>3</th>\n",
       "      <td>3</td>\n",
       "      <td>Raj Patel</td>\n",
       "      <td>Maybe buy boat basshead 100</td>\n",
       "      <td>review 1 week usepro 1 best build qualiti even...</td>\n",
       "      <td>4.0 out of 5 stars</td>\n",
       "      <td>positive</td>\n",
       "      <td>0</td>\n",
       "      <td>1</td>\n",
       "    </tr>\n",
       "    <tr>\n",
       "      <th>4</th>\n",
       "      <td>4</td>\n",
       "      <td>SANJAY KUMAR TIWARI</td>\n",
       "      <td>Superb head stereo better than leading brands.</td>\n",
       "      <td>purchas see review suspicion may result stupid...</td>\n",
       "      <td>5.0 out of 5 stars</td>\n",
       "      <td>positive</td>\n",
       "      <td>0</td>\n",
       "      <td>1</td>\n",
       "    </tr>\n",
       "    <tr>\n",
       "      <th>...</th>\n",
       "      <td>...</td>\n",
       "      <td>...</td>\n",
       "      <td>...</td>\n",
       "      <td>...</td>\n",
       "      <td>...</td>\n",
       "      <td>...</td>\n",
       "      <td>...</td>\n",
       "      <td>...</td>\n",
       "    </tr>\n",
       "    <tr>\n",
       "      <th>449710</th>\n",
       "      <td>449774</td>\n",
       "      <td>Dipchand</td>\n",
       "      <td>Not good</td>\n",
       "      <td>one side head phone work within 10 day product...</td>\n",
       "      <td>1.0 out of 5 stars</td>\n",
       "      <td>negative</td>\n",
       "      <td>1</td>\n",
       "      <td>0</td>\n",
       "    </tr>\n",
       "    <tr>\n",
       "      <th>449711</th>\n",
       "      <td>449775</td>\n",
       "      <td>Amazon Customer</td>\n",
       "      <td>Need replacement</td>\n",
       "      <td>qualiti good damag near mic happend week use n...</td>\n",
       "      <td>1.0 out of 5 stars</td>\n",
       "      <td>negative</td>\n",
       "      <td>1</td>\n",
       "      <td>0</td>\n",
       "    </tr>\n",
       "    <tr>\n",
       "      <th>449712</th>\n",
       "      <td>449776</td>\n",
       "      <td>MAYANK MISHRA</td>\n",
       "      <td>Stopped working after 1 month.</td>\n",
       "      <td>browser support html5 video 1 month use stop w...</td>\n",
       "      <td>3.0 out of 5 stars</td>\n",
       "      <td>negative</td>\n",
       "      <td>1</td>\n",
       "      <td>0</td>\n",
       "    </tr>\n",
       "    <tr>\n",
       "      <th>449713</th>\n",
       "      <td>449777</td>\n",
       "      <td>Zan</td>\n",
       "      <td>Cheap Quality.</td>\n",
       "      <td>product cheap qualiti recommend</td>\n",
       "      <td>1.0 out of 5 stars</td>\n",
       "      <td>negative</td>\n",
       "      <td>1</td>\n",
       "      <td>0</td>\n",
       "    </tr>\n",
       "    <tr>\n",
       "      <th>449714</th>\n",
       "      <td>449778</td>\n",
       "      <td>SK Raju</td>\n",
       "      <td>First few days only it works</td>\n",
       "      <td>bad luck buy within month went bad give sound low</td>\n",
       "      <td>2.0 out of 5 stars</td>\n",
       "      <td>negative</td>\n",
       "      <td>1</td>\n",
       "      <td>0</td>\n",
       "    </tr>\n",
       "  </tbody>\n",
       "</table>\n",
       "<p>449715 rows × 8 columns</p>\n",
       "</div>"
      ],
      "text/plain": [
       "         index        reviewer_name  \\\n",
       "0            0        Genuine buyer   \n",
       "1            1       CHETAN SHETTER   \n",
       "2            2        Kiran Kumar M   \n",
       "3            3            Raj Patel   \n",
       "4            4  SANJAY KUMAR TIWARI   \n",
       "...        ...                  ...   \n",
       "449710  449774             Dipchand   \n",
       "449711  449775      Amazon Customer   \n",
       "449712  449776        MAYANK MISHRA   \n",
       "449713  449777                  Zan   \n",
       "449714  449778              SK Raju   \n",
       "\n",
       "                                                    title  \\\n",
       "0                                           Pros and cons   \n",
       "1       Never Expected in this price range... I Assure...   \n",
       "2       Bass bastler, Awesome HD quality sound, rockin...   \n",
       "3                             Maybe buy boat basshead 100   \n",
       "4          Superb head stereo better than leading brands.   \n",
       "...                                                   ...   \n",
       "449710                                           Not good   \n",
       "449711                                   Need replacement   \n",
       "449712                     Stopped working after 1 month.   \n",
       "449713                                     Cheap Quality.   \n",
       "449714                       First few days only it works   \n",
       "\n",
       "                                              review_body       review_rating  \\\n",
       "0       great qualiti sound actual great pros1 hd soun...  5.0 out of 5 stars   \n",
       "1       use past 6 month actual earphon search realli ...  5.0 out of 5 stars   \n",
       "2       perfect bass nice one superb sound nois cancel...  5.0 out of 5 stars   \n",
       "3       review 1 week usepro 1 best build qualiti even...  4.0 out of 5 stars   \n",
       "4       purchas see review suspicion may result stupid...  5.0 out of 5 stars   \n",
       "...                                                   ...                 ...   \n",
       "449710  one side head phone work within 10 day product...  1.0 out of 5 stars   \n",
       "449711  qualiti good damag near mic happend week use n...  1.0 out of 5 stars   \n",
       "449712  browser support html5 video 1 month use stop w...  3.0 out of 5 stars   \n",
       "449713                    product cheap qualiti recommend  1.0 out of 5 stars   \n",
       "449714  bad luck buy within month went bad give sound low  2.0 out of 5 stars   \n",
       "\n",
       "       sentiment  negative  positive  \n",
       "0       positive         0         1  \n",
       "1       positive         0         1  \n",
       "2       positive         0         1  \n",
       "3       positive         0         1  \n",
       "4       positive         0         1  \n",
       "...          ...       ...       ...  \n",
       "449710  negative         1         0  \n",
       "449711  negative         1         0  \n",
       "449712  negative         1         0  \n",
       "449713  negative         1         0  \n",
       "449714  negative         1         0  \n",
       "\n",
       "[449715 rows x 8 columns]"
      ]
     },
     "execution_count": 103,
     "metadata": {},
     "output_type": "execute_result"
    }
   ],
   "source": [
    "df3\n",
    "dummy = pd.get_dummies(df3.sentiment)\n",
    "dummy.reset_index()\n",
    "df5 = pd.concat([df3, dummy], axis=1)\n",
    "dummy\n",
    "df5\n"
   ]
  },
  {
   "cell_type": "code",
   "execution_count": 105,
   "metadata": {},
   "outputs": [
    {
     "data": {
      "text/html": [
       "<div>\n",
       "<style scoped>\n",
       "    .dataframe tbody tr th:only-of-type {\n",
       "        vertical-align: middle;\n",
       "    }\n",
       "\n",
       "    .dataframe tbody tr th {\n",
       "        vertical-align: top;\n",
       "    }\n",
       "\n",
       "    .dataframe thead th {\n",
       "        text-align: right;\n",
       "    }\n",
       "</style>\n",
       "<table border=\"1\" class=\"dataframe\">\n",
       "  <thead>\n",
       "    <tr style=\"text-align: right;\">\n",
       "      <th></th>\n",
       "      <th>index</th>\n",
       "      <th>reviewer_name</th>\n",
       "      <th>title</th>\n",
       "      <th>review_body</th>\n",
       "      <th>review_rating</th>\n",
       "      <th>negative</th>\n",
       "      <th>positive</th>\n",
       "    </tr>\n",
       "  </thead>\n",
       "  <tbody>\n",
       "    <tr>\n",
       "      <th>0</th>\n",
       "      <td>0</td>\n",
       "      <td>Genuine buyer</td>\n",
       "      <td>Pros and cons</td>\n",
       "      <td>great qualiti sound actual great pros1 hd soun...</td>\n",
       "      <td>5.0 out of 5 stars</td>\n",
       "      <td>0</td>\n",
       "      <td>1</td>\n",
       "    </tr>\n",
       "    <tr>\n",
       "      <th>1</th>\n",
       "      <td>1</td>\n",
       "      <td>CHETAN SHETTER</td>\n",
       "      <td>Never Expected in this price range... I Assure...</td>\n",
       "      <td>use past 6 month actual earphon search realli ...</td>\n",
       "      <td>5.0 out of 5 stars</td>\n",
       "      <td>0</td>\n",
       "      <td>1</td>\n",
       "    </tr>\n",
       "    <tr>\n",
       "      <th>2</th>\n",
       "      <td>2</td>\n",
       "      <td>Kiran Kumar M</td>\n",
       "      <td>Bass bastler, Awesome HD quality sound, rockin...</td>\n",
       "      <td>perfect bass nice one superb sound nois cancel...</td>\n",
       "      <td>5.0 out of 5 stars</td>\n",
       "      <td>0</td>\n",
       "      <td>1</td>\n",
       "    </tr>\n",
       "    <tr>\n",
       "      <th>3</th>\n",
       "      <td>3</td>\n",
       "      <td>Raj Patel</td>\n",
       "      <td>Maybe buy boat basshead 100</td>\n",
       "      <td>review 1 week usepro 1 best build qualiti even...</td>\n",
       "      <td>4.0 out of 5 stars</td>\n",
       "      <td>0</td>\n",
       "      <td>1</td>\n",
       "    </tr>\n",
       "    <tr>\n",
       "      <th>4</th>\n",
       "      <td>4</td>\n",
       "      <td>SANJAY KUMAR TIWARI</td>\n",
       "      <td>Superb head stereo better than leading brands.</td>\n",
       "      <td>purchas see review suspicion may result stupid...</td>\n",
       "      <td>5.0 out of 5 stars</td>\n",
       "      <td>0</td>\n",
       "      <td>1</td>\n",
       "    </tr>\n",
       "  </tbody>\n",
       "</table>\n",
       "</div>"
      ],
      "text/plain": [
       "   index        reviewer_name  \\\n",
       "0      0        Genuine buyer   \n",
       "1      1       CHETAN SHETTER   \n",
       "2      2        Kiran Kumar M   \n",
       "3      3            Raj Patel   \n",
       "4      4  SANJAY KUMAR TIWARI   \n",
       "\n",
       "                                               title  \\\n",
       "0                                      Pros and cons   \n",
       "1  Never Expected in this price range... I Assure...   \n",
       "2  Bass bastler, Awesome HD quality sound, rockin...   \n",
       "3                        Maybe buy boat basshead 100   \n",
       "4     Superb head stereo better than leading brands.   \n",
       "\n",
       "                                         review_body       review_rating  \\\n",
       "0  great qualiti sound actual great pros1 hd soun...  5.0 out of 5 stars   \n",
       "1  use past 6 month actual earphon search realli ...  5.0 out of 5 stars   \n",
       "2  perfect bass nice one superb sound nois cancel...  5.0 out of 5 stars   \n",
       "3  review 1 week usepro 1 best build qualiti even...  4.0 out of 5 stars   \n",
       "4  purchas see review suspicion may result stupid...  5.0 out of 5 stars   \n",
       "\n",
       "   negative  positive  \n",
       "0         0         1  \n",
       "1         0         1  \n",
       "2         0         1  \n",
       "3         0         1  \n",
       "4         0         1  "
      ]
     },
     "execution_count": 105,
     "metadata": {},
     "output_type": "execute_result"
    }
   ],
   "source": [
    "df5.drop('sentiment', axis=1, inplace=True)\n",
    "df5.head()"
   ]
  },
  {
   "cell_type": "code",
   "execution_count": 109,
   "metadata": {},
   "outputs": [],
   "source": [
    "from sklearn.model_selection import StratifiedShuffleSplit\n",
    "\n",
    "split2 = StratifiedShuffleSplit(n_splits=1, test_size=0.2)\n",
    "for train_index_2, test_index_2 in split2.split(df5, df5['negative']):\n",
    "    train_set_2 = df5.loc[train_index]\n",
    "    test_set_2 = df5.loc[test_index]"
   ]
  },
  {
   "cell_type": "code",
   "execution_count": 110,
   "metadata": {},
   "outputs": [
    {
     "data": {
      "text/plain": [
       "negative\n",
       "0    0.851786\n",
       "1    0.148214\n",
       "Name: index, dtype: float64"
      ]
     },
     "execution_count": 110,
     "metadata": {},
     "output_type": "execute_result"
    }
   ],
   "source": [
    "sentiment_prop_2 = df5.groupby('negative')['index'].count()/len(df5)\n",
    "sentiment_prop_2"
   ]
  },
  {
   "cell_type": "code",
   "execution_count": 111,
   "metadata": {},
   "outputs": [],
   "source": [
    "#Excluindo da base de treino e teste atraibuto Credit Score Cat\n",
    "train_setx_2 = train_set_2.copy()\n",
    "test_setx_2 = test_set_2.copy()\n",
    "xtrain_2 = np.array(train_setx_2.drop('negative', axis=1, inplace=True))\n",
    "xtest_2 = np.array(test_setx_2.drop('negative', axis=1, inplace=True))"
   ]
  },
  {
   "cell_type": "code",
   "execution_count": 113,
   "metadata": {},
   "outputs": [],
   "source": [
    "ytrain_2 = np.array(train_set_2['negative'])\n",
    "ytest_2 =np.array(test_set_2['negative'])"
   ]
  },
  {
   "cell_type": "code",
   "execution_count": 114,
   "metadata": {},
   "outputs": [
    {
     "name": "stdout",
     "output_type": "stream",
     "text": [
      "X.shape =  (359772, 1000)\n",
      "y.shape =  (359772,)\n",
      "X.shape =  (89943, 1000)\n",
      "y.shape =  (89943,)\n"
     ]
    }
   ],
   "source": [
    "Xtest_reg_2 = np.array(test_setx_2.iloc[:,3].values)\n",
    "Xtrain_reg_2 = np.array(train_setx_2.iloc[:,3].values)\n",
    "ytrain_2 = np.array(train_set_2.negative.values)\n",
    "ytest_2 = np.array(test_set_2.negative.values)\n",
    "cv = CountVectorizer(max_features = 1000)\n",
    "Xtrain_reg_2 = cv.fit_transform(train_setx_2.review_body).toarray()\n",
    "Xtest_reg_2 = cv.fit_transform(test_setx_2.review_body).toarray()\n",
    "print(\"X.shape = \",Xtrain_reg.shape)\n",
    "print(\"y.shape = \",ytrain.shape)\n",
    "print(\"X.shape = \",Xtest_reg.shape)\n",
    "print(\"y.shape = \",ytest.shape)"
   ]
  },
  {
   "cell_type": "markdown",
   "metadata": {
    "id": "-dKNigfLlUiT"
   },
   "source": [
    "3. Defining the models and Training them"
   ]
  },
  {
   "cell_type": "code",
   "execution_count": 123,
   "metadata": {},
   "outputs": [
    {
     "data": {
      "text/plain": [
       "BernoulliNB()"
      ]
     },
     "execution_count": 123,
     "metadata": {},
     "output_type": "execute_result"
    }
   ],
   "source": [
    "gnb2,mnb2,bnb2 = GaussianNB(),MultinomialNB(alpha=1.0,fit_prior=True),BernoulliNB(alpha=1.0,fit_prior=True)\n",
    "gnb2.fit(Xtrain_reg_2,ytrain_2)\n",
    "mnb2.fit(Xtrain_reg_2,ytrain_2)\n",
    "bnb2.fit(Xtrain_reg_2,ytrain_2)"
   ]
  },
  {
   "cell_type": "code",
   "execution_count": 39,
   "metadata": {
    "id": "549O1GNBsJjr"
   },
   "outputs": [
    {
     "data": {
      "text/plain": [
       "BernoulliNB()"
      ]
     },
     "execution_count": 39,
     "metadata": {},
     "output_type": "execute_result"
    }
   ],
   "source": [
    "gnb,mnb,bnb = GaussianNB(),MultinomialNB(alpha=1.0,fit_prior=True),BernoulliNB(alpha=1.0,fit_prior=True)\n",
    "gnb.fit(Xtrain_reg,ytrain)\n",
    "mnb.fit(Xtrain_reg,ytrain)\n",
    "bnb.fit(Xtrain_reg,ytrain)"
   ]
  },
  {
   "cell_type": "code",
   "execution_count": 116,
   "metadata": {
    "id": "lRajOeO-sVoR"
   },
   "outputs": [
    {
     "ename": "KeyboardInterrupt",
     "evalue": "",
     "output_type": "error",
     "traceback": [
      "\u001b[1;31m---------------------------------------------------------------------------\u001b[0m",
      "\u001b[1;31mKeyboardInterrupt\u001b[0m                         Traceback (most recent call last)",
      "\u001b[1;32m<ipython-input-116-8fd7089e94ea>\u001b[0m in \u001b[0;36m<module>\u001b[1;34m\u001b[0m\n\u001b[1;32m----> 1\u001b[1;33m \u001b[0mypg\u001b[0m \u001b[1;33m=\u001b[0m \u001b[0mgnb\u001b[0m\u001b[1;33m.\u001b[0m\u001b[0mpredict\u001b[0m\u001b[1;33m(\u001b[0m\u001b[0mXtrain_reg\u001b[0m\u001b[1;33m)\u001b[0m\u001b[1;33m\u001b[0m\u001b[1;33m\u001b[0m\u001b[0m\n\u001b[0m\u001b[0;32m      2\u001b[0m \u001b[0mypm\u001b[0m \u001b[1;33m=\u001b[0m \u001b[0mmnb\u001b[0m\u001b[1;33m.\u001b[0m\u001b[0mpredict\u001b[0m\u001b[1;33m(\u001b[0m\u001b[0mXtrain_reg\u001b[0m\u001b[1;33m)\u001b[0m\u001b[1;33m\u001b[0m\u001b[1;33m\u001b[0m\u001b[0m\n\u001b[0;32m      3\u001b[0m \u001b[0mypb\u001b[0m \u001b[1;33m=\u001b[0m \u001b[0mbnb\u001b[0m\u001b[1;33m.\u001b[0m\u001b[0mpredict\u001b[0m\u001b[1;33m(\u001b[0m\u001b[0mXtrain_reg\u001b[0m\u001b[1;33m)\u001b[0m\u001b[1;33m\u001b[0m\u001b[1;33m\u001b[0m\u001b[0m\n",
      "\u001b[1;32m~\\anaconda3\\lib\\site-packages\\sklearn\\naive_bayes.py\u001b[0m in \u001b[0;36mpredict\u001b[1;34m(self, X)\u001b[0m\n\u001b[0;32m     73\u001b[0m         \u001b[0mcheck_is_fitted\u001b[0m\u001b[1;33m(\u001b[0m\u001b[0mself\u001b[0m\u001b[1;33m)\u001b[0m\u001b[1;33m\u001b[0m\u001b[1;33m\u001b[0m\u001b[0m\n\u001b[0;32m     74\u001b[0m         \u001b[0mX\u001b[0m \u001b[1;33m=\u001b[0m \u001b[0mself\u001b[0m\u001b[1;33m.\u001b[0m\u001b[0m_check_X\u001b[0m\u001b[1;33m(\u001b[0m\u001b[0mX\u001b[0m\u001b[1;33m)\u001b[0m\u001b[1;33m\u001b[0m\u001b[1;33m\u001b[0m\u001b[0m\n\u001b[1;32m---> 75\u001b[1;33m         \u001b[0mjll\u001b[0m \u001b[1;33m=\u001b[0m \u001b[0mself\u001b[0m\u001b[1;33m.\u001b[0m\u001b[0m_joint_log_likelihood\u001b[0m\u001b[1;33m(\u001b[0m\u001b[0mX\u001b[0m\u001b[1;33m)\u001b[0m\u001b[1;33m\u001b[0m\u001b[1;33m\u001b[0m\u001b[0m\n\u001b[0m\u001b[0;32m     76\u001b[0m         \u001b[1;32mreturn\u001b[0m \u001b[0mself\u001b[0m\u001b[1;33m.\u001b[0m\u001b[0mclasses_\u001b[0m\u001b[1;33m[\u001b[0m\u001b[0mnp\u001b[0m\u001b[1;33m.\u001b[0m\u001b[0margmax\u001b[0m\u001b[1;33m(\u001b[0m\u001b[0mjll\u001b[0m\u001b[1;33m,\u001b[0m \u001b[0maxis\u001b[0m\u001b[1;33m=\u001b[0m\u001b[1;36m1\u001b[0m\u001b[1;33m)\u001b[0m\u001b[1;33m]\u001b[0m\u001b[1;33m\u001b[0m\u001b[1;33m\u001b[0m\u001b[0m\n\u001b[0;32m     77\u001b[0m \u001b[1;33m\u001b[0m\u001b[0m\n",
      "\u001b[1;32m~\\anaconda3\\lib\\site-packages\\sklearn\\naive_bayes.py\u001b[0m in \u001b[0;36m_joint_log_likelihood\u001b[1;34m(self, X)\u001b[0m\n\u001b[0;32m    451\u001b[0m             \u001b[0mjointi\u001b[0m \u001b[1;33m=\u001b[0m \u001b[0mnp\u001b[0m\u001b[1;33m.\u001b[0m\u001b[0mlog\u001b[0m\u001b[1;33m(\u001b[0m\u001b[0mself\u001b[0m\u001b[1;33m.\u001b[0m\u001b[0mclass_prior_\u001b[0m\u001b[1;33m[\u001b[0m\u001b[0mi\u001b[0m\u001b[1;33m]\u001b[0m\u001b[1;33m)\u001b[0m\u001b[1;33m\u001b[0m\u001b[1;33m\u001b[0m\u001b[0m\n\u001b[0;32m    452\u001b[0m             \u001b[0mn_ij\u001b[0m \u001b[1;33m=\u001b[0m \u001b[1;33m-\u001b[0m \u001b[1;36m0.5\u001b[0m \u001b[1;33m*\u001b[0m \u001b[0mnp\u001b[0m\u001b[1;33m.\u001b[0m\u001b[0msum\u001b[0m\u001b[1;33m(\u001b[0m\u001b[0mnp\u001b[0m\u001b[1;33m.\u001b[0m\u001b[0mlog\u001b[0m\u001b[1;33m(\u001b[0m\u001b[1;36m2.\u001b[0m \u001b[1;33m*\u001b[0m \u001b[0mnp\u001b[0m\u001b[1;33m.\u001b[0m\u001b[0mpi\u001b[0m \u001b[1;33m*\u001b[0m \u001b[0mself\u001b[0m\u001b[1;33m.\u001b[0m\u001b[0msigma_\u001b[0m\u001b[1;33m[\u001b[0m\u001b[0mi\u001b[0m\u001b[1;33m,\u001b[0m \u001b[1;33m:\u001b[0m\u001b[1;33m]\u001b[0m\u001b[1;33m)\u001b[0m\u001b[1;33m)\u001b[0m\u001b[1;33m\u001b[0m\u001b[1;33m\u001b[0m\u001b[0m\n\u001b[1;32m--> 453\u001b[1;33m             n_ij -= 0.5 * np.sum(((X - self.theta_[i, :]) ** 2) /\n\u001b[0m\u001b[0;32m    454\u001b[0m                                  (self.sigma_[i, :]), 1)\n\u001b[0;32m    455\u001b[0m             \u001b[0mjoint_log_likelihood\u001b[0m\u001b[1;33m.\u001b[0m\u001b[0mappend\u001b[0m\u001b[1;33m(\u001b[0m\u001b[0mjointi\u001b[0m \u001b[1;33m+\u001b[0m \u001b[0mn_ij\u001b[0m\u001b[1;33m)\u001b[0m\u001b[1;33m\u001b[0m\u001b[1;33m\u001b[0m\u001b[0m\n",
      "\u001b[1;31mKeyboardInterrupt\u001b[0m: "
     ]
    }
   ],
   "source": [
    "ypg = gnb.predict(Xtrain_reg)\n",
    "ypm = mnb.predict(Xtrain_reg)\n",
    "ypb = bnb.predict(Xtrain_reg)"
   ]
  },
  {
   "cell_type": "code",
   "execution_count": 117,
   "metadata": {},
   "outputs": [],
   "source": [
    "ypg2 = gnb2.predict(Xtrain_reg_2)\n",
    "ypm2 = mnb2.predict(Xtrain_reg_2)\n",
    "ypb2 = bnb2.predict(Xtrain_reg_2)"
   ]
  },
  {
   "cell_type": "code",
   "execution_count": 41,
   "metadata": {},
   "outputs": [
    {
     "name": "stdout",
     "output_type": "stream",
     "text": [
      "Gaussian =  0.8115751086799418\n",
      "Multinomial =  0.8937716109091314\n",
      "Bernoulli =  0.8598112137687202\n"
     ]
    }
   ],
   "source": [
    "print(\"Gaussian = \",accuracy_score(ytrain,ypg))\n",
    "print(\"Multinomial = \",accuracy_score(ytrain,ypm))\n",
    "print(\"Bernoulli = \",accuracy_score(ytrain,ypb))"
   ]
  },
  {
   "cell_type": "code",
   "execution_count": 118,
   "metadata": {},
   "outputs": [
    {
     "name": "stdout",
     "output_type": "stream",
     "text": [
      "Gaussian =  0.8108357515315255\n",
      "Multinomial =  0.8941774234793147\n",
      "Bernoulli =  0.8600391358971793\n"
     ]
    }
   ],
   "source": [
    "print(\"Gaussian = \",accuracy_score(ytrain_2,ypg2))\n",
    "print(\"Multinomial = \",accuracy_score(ytrain_2,ypm2))\n",
    "print(\"Bernoulli = \",accuracy_score(ytrain_2,ypb2))"
   ]
  },
  {
   "cell_type": "code",
   "execution_count": 42,
   "metadata": {},
   "outputs": [],
   "source": [
    "ypg_test = gnb.predict(Xtest_reg)\n",
    "ypm_test = mnb.predict(Xtest_reg)\n",
    "ypb_test = bnb.predict(Xtest_reg)"
   ]
  },
  {
   "cell_type": "code",
   "execution_count": 124,
   "metadata": {},
   "outputs": [],
   "source": [
    "ypg_test2 = gnb2.predict(Xtest_reg_2)\n",
    "ypm_test2 = mnb2.predict(Xtest_reg_2)\n",
    "ypb_test2 = bnb2.predict(Xtest_reg_2)"
   ]
  },
  {
   "cell_type": "code",
   "execution_count": 43,
   "metadata": {},
   "outputs": [
    {
     "name": "stdout",
     "output_type": "stream",
     "text": [
      "Gaussian =  0.6828769331687847\n",
      "Multinomial =  0.807255706391826\n",
      "Bernoulli =  0.7920905462348377\n"
     ]
    }
   ],
   "source": [
    "print(\"Gaussian = \",accuracy_score(ytest,ypg_test))\n",
    "print(\"Multinomial = \",accuracy_score(ytest,ypm_test))\n",
    "print(\"Bernoulli = \",accuracy_score(ytest,ypb_test))"
   ]
  },
  {
   "cell_type": "code",
   "execution_count": 125,
   "metadata": {},
   "outputs": [
    {
     "name": "stdout",
     "output_type": "stream",
     "text": [
      "Gaussian =  0.5734854296610076\n",
      "Multinomial =  0.7621604794147404\n",
      "Bernoulli =  0.7817061916991873\n"
     ]
    }
   ],
   "source": [
    "print(\"Gaussian = \",accuracy_score(ytest_2,ypg_test2))\n",
    "print(\"Multinomial = \",accuracy_score(ytest_2,ypm_test2))\n",
    "print(\"Bernoulli = \",accuracy_score(ytest_2,ypb_test2))"
   ]
  },
  {
   "cell_type": "code",
   "execution_count": 44,
   "metadata": {},
   "outputs": [],
   "source": [
    "pickle.dump(mnb2,open('model1.pkl','wb'))"
   ]
  },
  {
   "cell_type": "code",
   "execution_count": 126,
   "metadata": {},
   "outputs": [],
   "source": [
    "rev =  \"\"\"Terrible. Complete trash. Brainless tripe. Insulting to anyone who isn't an 8 year old fan boy. Im actually pretty disgusted that this movie is making the money it is - what does it say about the people who brainlessly hand over the hard earned cash to be 'entertained' in this fashion and then come here to leave a positive 8.8 review?? Oh yes, they are morons. Its the only sensible conclusion to draw. How anyone can rate this movie amongst the pantheon of great titles is beyond me.\n",
    "\n",
    "So trying to find something constructive to say about this title is hard...I enjoyed Iron Man? Tony Stark is an inspirational character in his own movies but here he is a pale shadow of that...About the only 'hook' this movie had into me was wondering when and if Iron Man would knock Captain America out...Oh how I wished he had :( What were these other characters anyways? Useless, bickering idiots who really couldn't organise happy times in a brewery. The film was a chaotic mish mash of action elements and failed 'set pieces'...\n",
    "\n",
    "I found the villain to be quite amusing.\n",
    "\n",
    "And now I give up. This movie is not robbing any more of my time but I felt I ought to contribute to restoring the obvious fake rating and reviews this movie has been getting on IMDb.\"\"\"\n",
    "f1 = clean(rev)\n",
    "f2 = is_special(f1)\n",
    "f3 = to_lower(f2)\n",
    "f4 = rem_stopwords(f3)\n",
    "f5 = stem_txt(f4)\n",
    "\n",
    "bow,words = [],word_tokenize(f5)\n",
    "for word in words:\n",
    "    bow.append(words.count(word))\n",
    "\n",
    "word_dict = cv.vocabulary_\n",
    "pickle.dump(word_dict,open('model1.pkl','wb'))\n",
    "\n",
    "inp = []\n",
    "for i in word_dict:\n",
    "    inp.append(f5.count(i[0]))\n",
    "y_pred = mnb2.predict(np.array(inp).reshape(1,1000))"
   ]
  },
  {
   "cell_type": "code",
   "execution_count": 127,
   "metadata": {},
   "outputs": [
    {
     "data": {
      "text/plain": [
       "array([0], dtype=uint8)"
      ]
     },
     "execution_count": 127,
     "metadata": {},
     "output_type": "execute_result"
    }
   ],
   "source": [
    "y_pred"
   ]
  },
  {
   "cell_type": "code",
   "execution_count": 128,
   "metadata": {},
   "outputs": [],
   "source": [
    "rev2 =  \"\"\"Best product I could have bought in my life. Undoubtedly, this product is incredible, I have no words to express my joy and satisfaction of having bought from this store. \n",
    "I was looking for a complete product and no doubt I found. If someone really looks for quality,that really is the product they should buy. \n",
    "The manufacturer was amazing,seller quickly responded all requests, you should buy this product. When I bought the product, I sent a request to the color exchange seller, he immediately made the exchange, showing attention to me and quickly. \n",
    "I also thank the company's affection with after sales, no doubt this was my best purchase this year\"\"\"\n",
    "f11 = clean(rev2)\n",
    "f22 = is_special(f11)\n",
    "f33 = to_lower(f22)\n",
    "f44 = rem_stopwords(f33)\n",
    "f55 = stem_txt(f44)\n",
    "\n",
    "bow,words = [],word_tokenize(f55)\n",
    "for word in words:\n",
    "    bow.append(words.count(word))\n",
    "\n",
    "word_dict = cv.vocabulary_\n",
    "pickle.dump(word_dict,open('model1.pkl','wb'))\n",
    "\n",
    "inp2 = []\n",
    "for i in word_dict:\n",
    "    inp2.append(f55.count(i[0]))\n",
    "y_pred2 = mnb2.predict(np.array(inp2).reshape(1,1000))\n"
   ]
  },
  {
   "cell_type": "code",
   "execution_count": 129,
   "metadata": {},
   "outputs": [
    {
     "data": {
      "text/plain": [
       "array([0], dtype=uint8)"
      ]
     },
     "execution_count": 129,
     "metadata": {},
     "output_type": "execute_result"
    }
   ],
   "source": [
    "y_pred2"
   ]
  },
  {
   "cell_type": "code",
   "execution_count": 130,
   "metadata": {},
   "outputs": [],
   "source": [
    "# Setup plotting\n",
    "import matplotlib.pyplot as plt\n",
    "import pandas as pd\n",
    "import numpy as np\n",
    "\n",
    "import tensorflow as tf\n",
    "from tensorflow import keras\n",
    "from tensorflow.keras import layers\n",
    "from tensorflow.keras.callbacks import EarlyStopping\n",
    "\n",
    "plt.style.use('seaborn-whitegrid')\n",
    "# Set Matplotlib defaults\n",
    "plt.rc('figure', autolayout=True)\n",
    "plt.rc('axes', labelweight='bold', labelsize='large',\n",
    "       titleweight='bold', titlesize=18, titlepad=10)"
   ]
  },
  {
   "cell_type": "code",
   "execution_count": 132,
   "metadata": {},
   "outputs": [],
   "source": [
    "model = keras.Sequential([layers.Dense(1024, activation='relu'),\n",
    "                          layers.Dropout(0.3),\n",
    "                          layers.BatchNormalization(),\n",
    "                          layers.Dense(1024, activation='relu'),\n",
    "                          layers.Dropout(0.3),\n",
    "                          layers.BatchNormalization(),\n",
    "                          layers.Dense(1024, activation='relu'),\n",
    "                          layers.Dropout(0.3),\n",
    "                          layers.BatchNormalization(),\n",
    "                          layers.Dense(1),\n",
    "                         ])\n",
    "\n",
    "model.compile(optimizer='adam', loss='mae',)\n",
    "\n",
    "history = model.fit(Xtrain_reg_2, ytrain_2,\n",
    "                    validation_data=(Xtest_reg_2, ytest_2),\n",
    "                    batch_size=256,\n",
    "                    epochs=10,\n",
    "                    verbose=0,\n",
    "                   )"
   ]
  },
  {
   "cell_type": "code",
   "execution_count": 133,
   "metadata": {},
   "outputs": [
    {
     "data": {
      "image/png": "[encoded data removed]",
      "text/plain": [
       "<Figure size 432x288 with 1 Axes>"
      ]
     },
     "metadata": {},
     "output_type": "display_data"
    }
   ],
   "source": [
    "# Show the learning curves\n",
    "history_df = pd.DataFrame(history.history)\n",
    "history_df.loc[:, ['loss', 'val_loss']].plot();"
   ]
  },
  {
   "cell_type": "code",
   "execution_count": null,
   "metadata": {},
   "outputs": [],
   "source": []
  }
 ],
 "metadata": {
  "colab": {
   "collapsed_sections": [],
   "name": "Trabalho Deep Marlon e Thamiris Analise Sentimento.ipynb",
   "provenance": []
  },
  "kernelspec": {
   "display_name": "Python 3",
   "language": "python",
   "name": "python3"
  },
  "language_info": {
   "codemirror_mode": {
    "name": "ipython",
    "version": 3
   },
   "file_extension": ".py",
   "mimetype": "text/x-python",
   "name": "python",
   "nbconvert_exporter": "python",
   "pygments_lexer": "ipython3",
   "version": "3.8.8"
  }
 },
 "nbformat": 4,
 "nbformat_minor": 4
}
